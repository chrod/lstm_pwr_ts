{
 "cells": [
  {
   "cell_type": "code",
   "execution_count": null,
   "metadata": {
    "scrolled": true
   },
   "outputs": [],
   "source": [
    "## Imports\n",
    "import math as math\n",
    "import json\n",
    "import pandas as pd\n",
    "import numpy as np\n",
    "from matplotlib import pyplot\n",
    "from sklearn.metrics import mean_squared_error\n",
    "from math import sqrt\n",
    "from sklearn.preprocessing import MinMaxScaler\n",
    "import tensorflow as tf\n",
    "from tensorflow.keras.models import Sequential\n",
    "from tensorflow.keras.layers import Dense\n",
    "from tensorflow.keras.layers import LSTM\n",
    "from tensorflow.keras.layers import TimeDistributed\n",
    "from tensorflow.keras.layers import Dropout\n",
    "from tqdm import tqdm\n",
    "from sklearn.model_selection import train_test_split\n",
    "from tensorflow.python.client import device_lib\n",
    "\n",
    "# Register matplotlib converters\n",
    "from pandas.plotting import register_matplotlib_converters\n",
    "register_matplotlib_converters()"
   ]
  },
  {
   "cell_type": "code",
   "execution_count": null,
   "metadata": {},
   "outputs": [],
   "source": [
    "## Fill missing values with a value at the same time one day ago\n",
    "def fill_missing(values):\n",
    "    one_day = 60 * 24\n",
    "    for row in range(values.shape[0]):\n",
    "        for col in range(values.shape[1]):\n",
    "            if math.isnan(values[row, col]):\n",
    "                values[row, col] = values[row - one_day, col]"
   ]
  },
  {
   "cell_type": "code",
   "execution_count": null,
   "metadata": {
    "scrolled": true
   },
   "outputs": [],
   "source": [
    "# Load all data\n",
    "dataset = pd.read_csv('data/household_power_consumption.txt', sep=';', header=0, low_memory=False, infer_datetime_format=True, parse_dates={'datetime':[0,1]}, index_col=['datetime'])\n",
    "# summarize\n",
    "print(dataset.shape)\n",
    "print(dataset.head())"
   ]
  },
  {
   "cell_type": "code",
   "execution_count": null,
   "metadata": {},
   "outputs": [],
   "source": [
    "# Mark all missing values\n",
    "dataset.replace('?', np.nan, inplace=True)\n",
    "# Make dataset numeric\n",
    "dataset = dataset.astype('float32')\n",
    "\n",
    "# Fill missing values\n",
    "fill_missing(dataset.values)\n",
    "\n",
    "# Add a column for for the remainder of sub metering\n",
    "values = dataset.values.astype('float32')\n",
    "dataset['sub_metering_4'] = (values[:,0] * 1000 / 60) - (values[:,4] + values[:,5] + values[:,6])\n",
    "\n",
    "# Save updated dataset\n",
    "dataset.to_csv('household_power_consumption.csv')\n",
    "\n",
    "# Load the new file and summarize\n",
    "dataset = pd.read_csv('household_power_consumption.csv', header=0, infer_datetime_format=True, parse_dates=['datetime'], index_col=['datetime'])\n",
    "print(dataset.head())"
   ]
  },
  {
   "cell_type": "code",
   "execution_count": null,
   "metadata": {},
   "outputs": [],
   "source": [
    "## Resample data to daily\n",
    "daily_groups = dataset.resample('D')\n",
    "daily_data = daily_groups.sum()\n",
    "# Summarize\n",
    "print(daily_data.shape)\n",
    "print(daily_data.head())\n",
    "# Save\n",
    "daily_data.to_csv('household_power_consumption_days.csv')"
   ]
  },
  {
   "cell_type": "code",
   "execution_count": null,
   "metadata": {},
   "outputs": [],
   "source": [
    "## Line plots -----------------------------------------------------------------\n",
    "#from pandas import read_csv\n",
    "# Load the new file\n",
    "#dataset = pd.read_csv('household_power_consumption.csv', header=0, infer_datetime_format=True, parse_dates=['datetime'], index_col=['datetime'])\n",
    "# Line plot for each variable\n",
    "pyplot.figure(figsize=(8,8))\n",
    "for i in range(len(dataset.columns)):\n",
    "    pyplot.subplot(len(dataset.columns), 1, i+1)\n",
    "    name = dataset.columns[i]\n",
    "    pyplot.plot(dataset[name])\n",
    "    pyplot.title(name, y=0)\n",
    "    pyplot.tight_layout()\n",
    "pyplot.show()"
   ]
  },
  {
   "cell_type": "code",
   "execution_count": null,
   "metadata": {},
   "outputs": [],
   "source": [
    "## Yearly line plots\n",
    "\n",
    "# Plot active power for each year\n",
    "years = ['2007', '2008', '2009', '2010']\n",
    "pyplot.figure(figsize=(8,8))\n",
    "for i in range(len(years)):\n",
    "    # prepare subplot\n",
    "    ax = pyplot.subplot(len(years), 1, i+1)\n",
    "    # determine the year to plot\n",
    "    year = years[i]\n",
    "    # get all observations for the year\n",
    "    result = dataset[str(year)]\n",
    "    # plot the active power for the year\n",
    "    pyplot.plot(result['Global_active_power'])\n",
    "    # add a title to the subplot\n",
    "    pyplot.title(str(year), y=0, loc='left')\n",
    "    pyplot.tight_layout()\n",
    "pyplot.show()"
   ]
  },
  {
   "cell_type": "code",
   "execution_count": null,
   "metadata": {},
   "outputs": [],
   "source": [
    "## Monthly plots\n",
    "# Plot active power for each year\n",
    "months = [x for x in range(1, 13)]\n",
    "pyplot.figure(figsize=(8,8))\n",
    "for i in range(len(months)):\n",
    "    # prepare subplot\n",
    "    ax = pyplot.subplot(len(months), 1, i+1)\n",
    "    # determine the month to plot\n",
    "    month = '2007-' + str(months[i])\n",
    "    # get all observations for the month\n",
    "    result = dataset[month]\n",
    "    # plot the active power for the month\n",
    "    pyplot.plot(result['Global_active_power'])\n",
    "    # add a title to the subplot\n",
    "    pyplot.title(month, y=0, loc='left')\n",
    "    #pyplot.tight_layout()\n",
    "pyplot.show()"
   ]
  },
  {
   "cell_type": "code",
   "execution_count": null,
   "metadata": {},
   "outputs": [],
   "source": [
    "## Daily plots\n",
    "# plot active power for each year\n",
    "days = [x for x in range(1, 20)]\n",
    "pyplot.figure(figsize=(10,20),constrained_layout=True)\n",
    "for i in range(len(days)):\n",
    "    # prepare subplot\n",
    "    ax = pyplot.subplot(len(days), 1, i+1)\n",
    "    # determine the day to plot\n",
    "    day = '2007-01-' + str(days[i])\n",
    "    # get all observations for the day\n",
    "    result = dataset[day]\n",
    "    # plot the active power for the day\n",
    "    pyplot.plot(result['Global_active_power'])\n",
    "    # add a title to the subplot\n",
    "    pyplot.title(day, y=0, loc='left')\n",
    "    #pyplot.tight_layout(pad=0.4, w_pad=0.5, h_pad=1.0)\n",
    "pyplot.show()"
   ]
  },
  {
   "cell_type": "code",
   "execution_count": null,
   "metadata": {},
   "outputs": [],
   "source": [
    "# Histogram plot for each variable\n",
    "pyplot.figure(figsize=(10,15))\n",
    "for i in range(len(dataset.columns)):\n",
    "    pyplot.subplot(len(dataset.columns), 1, i+1)\n",
    "    name = dataset.columns[i]\n",
    "    dataset[name].hist(bins=100)\n",
    "    pyplot.title(name, y=0)\n",
    "    pyplot.tight_layout()\n",
    "pyplot.show()"
   ]
  },
  {
   "cell_type": "code",
   "execution_count": null,
   "metadata": {},
   "outputs": [],
   "source": [
    "## Active Power Consumption Plots ##\n",
    "# Plot active power for each year\n",
    "years = ['2007', '2008', '2009', '2010']\n",
    "pyplot.figure(figsize=(10,10))\n",
    "for i in range(len(years)):\n",
    "    # prepare subplot\n",
    "    ax = pyplot.subplot(len(years), 1, i+1)\n",
    "    # determine the year to plot\n",
    "    year = years[i]\n",
    "    # get all observations for the year\n",
    "    result = dataset[str(year)]\n",
    "    # plot the active power for the year\n",
    "    result['Global_active_power'].hist(bins=100)\n",
    "    # zoom in on the distribution\n",
    "    ax.set_xlim(0, 5)\n",
    "    # add a title to the subplot\n",
    "    pyplot.title(str(year), y=0, loc='right')\n",
    "pyplot.show()"
   ]
  },
  {
   "cell_type": "code",
   "execution_count": null,
   "metadata": {
    "scrolled": true
   },
   "outputs": [],
   "source": [
    "# Plot active power for each year\n",
    "months = [x for x in range(1, 13)]\n",
    "pyplot.figure(figsize=(10,10))\n",
    "for i in range(len(months)):\n",
    "    # prepare subplot\n",
    "    ax = pyplot.subplot(len(months), 1, i+1)\n",
    "    # determine the month to plot\n",
    "    month = '2007-' + str(months[i])\n",
    "    # get all observations for the month\n",
    "    result = dataset[month]\n",
    "    # plot the active power for the month\n",
    "    result['Global_active_power'].hist(bins=100)\n",
    "    # zoom in on the distribution\n",
    "    ax.set_xlim(0, 5)\n",
    "    # add a title to the subplot\n",
    "    pyplot.title(month, y=0, loc='right')\n",
    "pyplot.show()"
   ]
  }
 ],
 "metadata": {
  "kernelspec": {
   "display_name": "Python 3",
   "language": "python",
   "name": "python3"
  },
  "language_info": {
   "codemirror_mode": {
    "name": "ipython",
    "version": 3
   },
   "file_extension": ".py",
   "mimetype": "text/x-python",
   "name": "python",
   "nbconvert_exporter": "python",
   "pygments_lexer": "ipython3",
   "version": "3.7.3"
  }
 },
 "nbformat": 4,
 "nbformat_minor": 2
}
